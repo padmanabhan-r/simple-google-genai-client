{
 "cells": [
  {
   "cell_type": "code",
   "execution_count": 6,
   "id": "ea5fa57a",
   "metadata": {},
   "outputs": [],
   "source": [
    "from google_client import GoogleClient\n",
    "\n",
    "# Use default region (global) \n",
    "google_client = GoogleClient(model=\"gemini-2.5-flash-lite\")"
   ]
  },
  {
   "cell_type": "code",
   "execution_count": 7,
   "id": "fd75355c",
   "metadata": {},
   "outputs": [
    {
     "data": {
      "text/plain": [
       "{'models/aqa',\n",
       " 'models/embedding-001',\n",
       " 'models/embedding-gecko-001',\n",
       " 'models/gemini-1.0-pro-vision-latest',\n",
       " 'models/gemini-1.5-flash',\n",
       " 'models/gemini-1.5-flash-002',\n",
       " 'models/gemini-1.5-flash-8b',\n",
       " 'models/gemini-1.5-flash-8b-001',\n",
       " 'models/gemini-1.5-flash-8b-latest',\n",
       " 'models/gemini-1.5-flash-latest',\n",
       " 'models/gemini-1.5-pro',\n",
       " 'models/gemini-1.5-pro-002',\n",
       " 'models/gemini-1.5-pro-latest',\n",
       " 'models/gemini-2.0-flash',\n",
       " 'models/gemini-2.0-flash-001',\n",
       " 'models/gemini-2.0-flash-exp',\n",
       " 'models/gemini-2.0-flash-exp-image-generation',\n",
       " 'models/gemini-2.0-flash-lite',\n",
       " 'models/gemini-2.0-flash-lite-001',\n",
       " 'models/gemini-2.0-flash-lite-preview',\n",
       " 'models/gemini-2.0-flash-lite-preview-02-05',\n",
       " 'models/gemini-2.0-flash-live-001',\n",
       " 'models/gemini-2.0-flash-preview-image-generation',\n",
       " 'models/gemini-2.0-flash-thinking-exp',\n",
       " 'models/gemini-2.0-flash-thinking-exp-01-21',\n",
       " 'models/gemini-2.0-flash-thinking-exp-1219',\n",
       " 'models/gemini-2.0-pro-exp',\n",
       " 'models/gemini-2.0-pro-exp-02-05',\n",
       " 'models/gemini-2.5-flash',\n",
       " 'models/gemini-2.5-flash-exp-native-audio-thinking-dialog',\n",
       " 'models/gemini-2.5-flash-lite',\n",
       " 'models/gemini-2.5-flash-lite-preview-06-17',\n",
       " 'models/gemini-2.5-flash-live-preview',\n",
       " 'models/gemini-2.5-flash-preview-05-20',\n",
       " 'models/gemini-2.5-flash-preview-native-audio-dialog',\n",
       " 'models/gemini-2.5-flash-preview-tts',\n",
       " 'models/gemini-2.5-pro',\n",
       " 'models/gemini-2.5-pro-preview-03-25',\n",
       " 'models/gemini-2.5-pro-preview-05-06',\n",
       " 'models/gemini-2.5-pro-preview-06-05',\n",
       " 'models/gemini-2.5-pro-preview-tts',\n",
       " 'models/gemini-embedding-001',\n",
       " 'models/gemini-embedding-exp',\n",
       " 'models/gemini-embedding-exp-03-07',\n",
       " 'models/gemini-exp-1206',\n",
       " 'models/gemini-live-2.5-flash-preview',\n",
       " 'models/gemini-pro-vision',\n",
       " 'models/gemma-3-12b-it',\n",
       " 'models/gemma-3-1b-it',\n",
       " 'models/gemma-3-27b-it',\n",
       " 'models/gemma-3-4b-it',\n",
       " 'models/gemma-3n-e2b-it',\n",
       " 'models/gemma-3n-e4b-it',\n",
       " 'models/imagen-3.0-generate-002',\n",
       " 'models/imagen-4.0-generate-preview-06-06',\n",
       " 'models/imagen-4.0-ultra-generate-preview-06-06',\n",
       " 'models/learnlm-2.0-flash-experimental',\n",
       " 'models/text-embedding-004',\n",
       " 'models/veo-2.0-generate-001',\n",
       " 'models/veo-3.0-generate-preview'}"
      ]
     },
     "execution_count": 7,
     "metadata": {},
     "output_type": "execute_result"
    }
   ],
   "source": [
    "google_client.list_models()"
   ]
  },
  {
   "cell_type": "code",
   "execution_count": 8,
   "id": "f0769faa",
   "metadata": {},
   "outputs": [
    {
     "data": {
      "text/plain": [
       "\"Hi there! I'm doing well, thank you for asking! As a large language model, I don't have feelings in the same way humans do, but I'm functioning optimally and ready to assist you.\\n\\nHow about you? How are you doing today? Is there anything I can help you with?\""
      ]
     },
     "execution_count": 8,
     "metadata": {},
     "output_type": "execute_result"
    }
   ],
   "source": [
    "google_client.generate_content(\"Hi! How are you doing today?\")"
   ]
  },
  {
   "cell_type": "code",
   "execution_count": 9,
   "id": "bf52534e",
   "metadata": {},
   "outputs": [],
   "source": [
    "from pydantic import BaseModel\n",
    "class PersonPolicyDetails(BaseModel):\n",
    "    name: str\n",
    "    age: str\n",
    "    policy_num: int\n",
    "    month: str"
   ]
  },
  {
   "cell_type": "code",
   "execution_count": 12,
   "id": "0405931f",
   "metadata": {},
   "outputs": [],
   "source": [
    "with open(\"document.txt\") as file:\n",
    "    input_text = file.read()"
   ]
  },
  {
   "cell_type": "code",
   "execution_count": 13,
   "id": "6e0a885e",
   "metadata": {},
   "outputs": [
    {
     "data": {
      "text/plain": [
       "'On March 12, 2025, Emily Carter (Age: 29) contacted our office to review her coverage. Her Policy Number: EC‑45278109 had recently renewed, and she opted to add roadside assistance starting April. Meanwhile, Robert “Bobby” Singh, aged 42, upgraded his home‑owners policy (RS‑90734621) in May to include flood protection. Finally, Monica Alvarez, a 34‑year‑old graphic designer, took out a new term‑life plan (Policy No. MA‑33415987) effective June, with her first premium due on July 1, 2025.'"
      ]
     },
     "execution_count": 13,
     "metadata": {},
     "output_type": "execute_result"
    }
   ],
   "source": [
    "input_text"
   ]
  },
  {
   "cell_type": "code",
   "execution_count": 14,
   "id": "d0cad5fd",
   "metadata": {},
   "outputs": [
    {
     "name": "stdout",
     "output_type": "stream",
     "text": [
      "{\n",
      "\"name\": \"Emily Carter\",\n",
      "\"age\": \"29\",\n",
      "\"policy_num\": 45278109,\n",
      "\"month\": \"April\"\n",
      "}\n"
     ]
    }
   ],
   "source": [
    "response = google_client.generate_content(\n",
    "    f\"Extract the person's policy details with name, age and month from this text: {input_text}\",\n",
    "    response_schema=PersonPolicyDetails\n",
    ")\n",
    "\n",
    "print(response)"
   ]
  },
  {
   "cell_type": "code",
   "execution_count": null,
   "id": "fed2f4a4",
   "metadata": {},
   "outputs": [],
   "source": []
  }
 ],
 "metadata": {
  "kernelspec": {
   "display_name": "simple-google-genai-client",
   "language": "python",
   "name": "python3"
  },
  "language_info": {
   "codemirror_mode": {
    "name": "ipython",
    "version": 3
   },
   "file_extension": ".py",
   "mimetype": "text/x-python",
   "name": "python",
   "nbconvert_exporter": "python",
   "pygments_lexer": "ipython3",
   "version": "3.13.3"
  }
 },
 "nbformat": 4,
 "nbformat_minor": 5
}
